{
  "cells": [
    {
      "cell_type": "markdown",
      "metadata": {
        "id": "view-in-github",
        "colab_type": "text"
      },
      "source": [
        "<a href=\"https://colab.research.google.com/github/Mdsbarreto/Basico/blob/main/Sistema_com_Dicionario.ipynb\" target=\"_parent\"><img src=\"https://colab.research.google.com/assets/colab-badge.svg\" alt=\"Open In Colab\"/></a>"
      ]
    },
    {
      "cell_type": "code",
      "execution_count": 11,
      "metadata": {
        "id": "255dqqNG7NtK"
      },
      "outputs": [],
      "source": [
        "tabela= {1:'mar', 2:'dua', 3:'sil',4:'bar',5:'mei',6:'dil',11:'mar2', 12:'dua2', 13:'sil2'}"
      ]
    },
    {
      "cell_type": "code",
      "execution_count": 12,
      "metadata": {
        "id": "uAZvcfyu7Nk-"
      },
      "outputs": [],
      "source": [
        "def mostrar():\n",
        "  for i in tabela.keys():\n",
        "    print(i)\n",
        "#mostrar()"
      ]
    },
    {
      "cell_type": "code",
      "execution_count": 13,
      "metadata": {
        "id": "UrT7stCa7NoD"
      },
      "outputs": [],
      "source": [
        "def pesquisar():\n",
        "  x=int(input('digite o cpf a ser pesquisado: '))\n",
        "  if x in tabela.keys():\n",
        "    print(x)\n",
        "    print(tabela[x])\n",
        "  else:\n",
        "    print('cpf não encontrado')\n",
        "#pesquisar()"
      ]
    },
    {
      "cell_type": "code",
      "source": [
        "def excluir():\n",
        "  x=int(input('digite o cpf a ser excluido: '))\n",
        "  try:\n",
        "    tabela.pop(x)\n",
        "    print('valor excluido')\n",
        "  except:\n",
        "    print('valor não encontrado')\n",
        "#excluir()"
      ],
      "metadata": {
        "id": "wTVIXJvubwbI"
      },
      "execution_count": 14,
      "outputs": []
    },
    {
      "cell_type": "code",
      "source": [
        "def alterar2():\n",
        "    x = int(input('Digite o CPF que deseja alterar o valor: '))\n",
        "    busca = tabela.get(x)\n",
        "\n",
        "    if busca is None:\n",
        "        print('Valor não encontrado')\n",
        "        return\n",
        "\n",
        "    print(f'O valor atual para {x} é: {busca}')\n",
        "    validacao = int(input('Deseja alterar? Digite 1 para sim ou 2 para não: '))\n",
        "    if validacao == 1:\n",
        "        novo = input('Digite o novo valor: ')\n",
        "        tabela[x] = novo\n",
        "        print('Valor alterado')\n",
        "    else:\n",
        "      print('valor nao alterado')\n",
        "    print(tabela)\n",
        "# alterar2()"
      ],
      "metadata": {
        "id": "6afso7qjrzTa"
      },
      "execution_count": 15,
      "outputs": []
    },
    {
      "cell_type": "code",
      "source": [
        "#tabela"
      ],
      "metadata": {
        "id": "X_F6DG6K56tF"
      },
      "execution_count": 16,
      "outputs": []
    },
    {
      "cell_type": "code",
      "source": [
        "def alterar():\n",
        "    x = int(input('Digite o CPF que deseja alterar o valor: '))\n",
        "    try:\n",
        "      busca = tabela[x]\n",
        "\n",
        "      print(f'O valor atual para {x} é: {busca}')\n",
        "      validacao = int(input('Deseja alterar? Digite 1 para sim ou 2 para não: '))\n",
        "      if validacao == 1:\n",
        "        novo = input('Digite o novo valor: ')\n",
        "        tabela[x] = novo\n",
        "        print('Valor alterado')\n",
        "      else:\n",
        "        print('valor nao alterado')\n",
        "    except:\n",
        "      print('Valor não encontrado')\n",
        "    print(tabela)\n",
        "#alterar()"
      ],
      "metadata": {
        "id": "DkajmQDc5oP7"
      },
      "execution_count": 17,
      "outputs": []
    },
    {
      "cell_type": "code",
      "execution_count": 18,
      "metadata": {
        "id": "eEmumxdlHq6u"
      },
      "outputs": [],
      "source": [
        "def adicionar(x):\n",
        "  y=input(f'digite o nome para o cpf: {x}\\n')\n",
        "  if x in tabela.keys():\n",
        "    x2=input(f'\\njá existe esse cpf, deseja alterar de > {tabela.get(x)} < para > {y} < ?? \\ndigite 1 para sim e ou 2 para não:  \\n')\n",
        "    if x2=='1':\n",
        "      tabela[x]=y\n",
        "      print(f'adicionado cpf > {x} no nome de > {y}')\n",
        "    elif x2=='2':\n",
        "      print('escolhido opção 2, saindo do sistema, nome não foi atualizado')\n",
        "    else:\n",
        "      print('informação incorreta, saindo do sistema')\n",
        "  else:\n",
        "    tabela[x]=y\n",
        "    print(f'adicionado cpf > {x} no nome de > {y}')\n",
        "#x=322...\n",
        "#adicionar(x)"
      ]
    },
    {
      "cell_type": "code",
      "execution_count": 19,
      "metadata": {
        "id": "9-IS3P01VmVg"
      },
      "outputs": [],
      "source": [
        "def validar_cpf2(cpf):\n",
        "    cpf = ''.join(filter(str.isdigit, cpf))                                 # Remove caracteres não numéricos\n",
        "    print(cpf)\n",
        "    if len(cpf) != 11:\n",
        "        valido='nao'\n",
        "        #print(valido)\n",
        "        return cpf, valido\n",
        "    soma = 0                                                               # Calcula o primeiro dígito verificador\n",
        "    for i in range(9):\n",
        "        soma += int(cpf[i]) * (10 - i)\n",
        "    resto = soma % 11\n",
        "    if resto < 2:\n",
        "        digito1 = 0\n",
        "    else:\n",
        "        digito1 = 11 - resto\n",
        "    soma = 0                                                               # Calcula o segundo dígito verificador\n",
        "    for i in range(10):\n",
        "        soma += int(cpf[i]) * (11 - i)\n",
        "    resto = soma % 11\n",
        "    if resto < 2:\n",
        "        digito2 = 0\n",
        "    else:\n",
        "        digito2 = 11 - resto\n",
        "    if int(cpf[9]) == digito1 and int(cpf[10]) == digito2:               # Verifica se os dígitos verificadores calculados coincidem com os reais\n",
        "        valido='sim'\n",
        "    else:\n",
        "        valido='nao'\n",
        "    return cpf, valido\n",
        "\n",
        "def validar_cpf():\n",
        "  valido = 'sim'\n",
        "  cpf = input('Digite o CPF: ')\n",
        "  cpf_final,validacao_status = validar_cpf2(cpf)\n",
        "  if validacao_status == 'nao':\n",
        "    print('CPF inválido.\\n')\n",
        "    finalizar='sim'\n",
        "  else:\n",
        "    print('CPF válido, seguindo com o sistema\\n ')\n",
        "    finalizar='nao'\n",
        "    #print (finalizar)\n",
        "  return cpf_final, finalizar\n",
        "\n",
        "  #print(cpf_final)\n",
        "  #print(validacao_status)\n",
        "#validar_cpf()"
      ]
    },
    {
      "cell_type": "code",
      "execution_count": 20,
      "metadata": {
        "id": "Qc19xY2XVmar",
        "colab": {
          "base_uri": "https://localhost:8080/",
          "height": 963
        },
        "outputId": "1d1d5b65-085e-4bbe-f4cb-404d2a5c9599"
      },
      "outputs": [
        {
          "output_type": "stream",
          "name": "stdout",
          "text": [
            " \n",
            "\n",
            "MENU PRINCIPAL\n",
            "\n",
            " 1 > adicionar\n",
            " 2 > alterar\n",
            " 3 > mostrar os cpf cadastrados \n",
            " 4 > excluir\n",
            " 5 > pesquisar\n",
            " 0 > sair\n",
            ">> 2\n",
            "opção escolhida: 2 - Alterar\n",
            "Digite o CPF que deseja alterar o valor: 44\n",
            "Valor não encontrado\n",
            "{1: 'mar', 2: 'dua', 3: 'sil', 4: 'bar', 5: 'mei', 6: 'dil', 11: 'mar2', 12: 'dua2', 13: 'sil2'}\n",
            " \n",
            "\n",
            "MENU PRINCIPAL\n",
            "\n",
            " 1 > adicionar\n",
            " 2 > alterar\n",
            " 3 > mostrar os cpf cadastrados \n",
            " 4 > excluir\n",
            " 5 > pesquisar\n",
            " 0 > sair\n",
            ">> 2\n",
            "opção escolhida: 2 - Alterar\n",
            "Digite o CPF que deseja alterar o valor: 4\n",
            "O valor atual para 4 é: bar\n",
            "Deseja alterar? Digite 1 para sim ou 2 para não: 1\n",
            "Digite o novo valor: barbar\n",
            "Valor alterado\n",
            "{1: 'mar', 2: 'dua', 3: 'sil', 4: 'barbar', 5: 'mei', 6: 'dil', 11: 'mar2', 12: 'dua2', 13: 'sil2'}\n"
          ]
        },
        {
          "output_type": "error",
          "ename": "KeyboardInterrupt",
          "evalue": "ignored",
          "traceback": [
            "\u001b[0;31m---------------------------------------------------------------------------\u001b[0m",
            "\u001b[0;31mKeyboardInterrupt\u001b[0m                         Traceback (most recent call last)",
            "\u001b[0;32m<ipython-input-20-e649dda58027>\u001b[0m in \u001b[0;36m<cell line: 5>\u001b[0;34m()\u001b[0m\n\u001b[1;32m      4\u001b[0m \u001b[0mfinalizar\u001b[0m\u001b[0;34m=\u001b[0m\u001b[0;34m'sim'\u001b[0m\u001b[0;34m\u001b[0m\u001b[0;34m\u001b[0m\u001b[0m\n\u001b[1;32m      5\u001b[0m \u001b[0;32mwhile\u001b[0m \u001b[0msair_loop\u001b[0m\u001b[0;34m==\u001b[0m\u001b[0;36m0\u001b[0m\u001b[0;34m:\u001b[0m\u001b[0;34m\u001b[0m\u001b[0;34m\u001b[0m\u001b[0m\n\u001b[0;32m----> 6\u001b[0;31m   \u001b[0mx2\u001b[0m\u001b[0;34m=\u001b[0m\u001b[0mint\u001b[0m\u001b[0;34m(\u001b[0m\u001b[0minput\u001b[0m\u001b[0;34m(\u001b[0m\u001b[0;34m' \\n\\nMENU PRINCIPAL\\n\\n 1 > adicionar\\n 2 > alterar\\n 3 > mostrar os cpf cadastrados \\n 4 > excluir\\n 5 > pesquisar\\n 0 > sair\\n>> '\u001b[0m\u001b[0;34m)\u001b[0m\u001b[0;34m)\u001b[0m\u001b[0;34m\u001b[0m\u001b[0;34m\u001b[0m\u001b[0m\n\u001b[0m\u001b[1;32m      7\u001b[0m   \u001b[0;32mif\u001b[0m \u001b[0mx2\u001b[0m\u001b[0;34m==\u001b[0m\u001b[0;36m1\u001b[0m\u001b[0;34m:\u001b[0m                                                     \u001b[0;31m# ADICIONAR\u001b[0m\u001b[0;34m\u001b[0m\u001b[0;34m\u001b[0m\u001b[0m\n\u001b[1;32m      8\u001b[0m     \u001b[0mprint\u001b[0m\u001b[0;34m(\u001b[0m\u001b[0;34m'opção escolhida: 1 - Adicionar'\u001b[0m\u001b[0;34m)\u001b[0m\u001b[0;34m\u001b[0m\u001b[0;34m\u001b[0m\u001b[0m\n",
            "\u001b[0;32m/usr/local/lib/python3.10/dist-packages/ipykernel/kernelbase.py\u001b[0m in \u001b[0;36mraw_input\u001b[0;34m(self, prompt)\u001b[0m\n\u001b[1;32m    849\u001b[0m                 \u001b[0;34m\"raw_input was called, but this frontend does not support input requests.\"\u001b[0m\u001b[0;34m\u001b[0m\u001b[0;34m\u001b[0m\u001b[0m\n\u001b[1;32m    850\u001b[0m             )\n\u001b[0;32m--> 851\u001b[0;31m         return self._input_request(str(prompt),\n\u001b[0m\u001b[1;32m    852\u001b[0m             \u001b[0mself\u001b[0m\u001b[0;34m.\u001b[0m\u001b[0m_parent_ident\u001b[0m\u001b[0;34m,\u001b[0m\u001b[0;34m\u001b[0m\u001b[0;34m\u001b[0m\u001b[0m\n\u001b[1;32m    853\u001b[0m             \u001b[0mself\u001b[0m\u001b[0;34m.\u001b[0m\u001b[0m_parent_header\u001b[0m\u001b[0;34m,\u001b[0m\u001b[0;34m\u001b[0m\u001b[0;34m\u001b[0m\u001b[0m\n",
            "\u001b[0;32m/usr/local/lib/python3.10/dist-packages/ipykernel/kernelbase.py\u001b[0m in \u001b[0;36m_input_request\u001b[0;34m(self, prompt, ident, parent, password)\u001b[0m\n\u001b[1;32m    893\u001b[0m             \u001b[0;32mexcept\u001b[0m \u001b[0mKeyboardInterrupt\u001b[0m\u001b[0;34m:\u001b[0m\u001b[0;34m\u001b[0m\u001b[0;34m\u001b[0m\u001b[0m\n\u001b[1;32m    894\u001b[0m                 \u001b[0;31m# re-raise KeyboardInterrupt, to truncate traceback\u001b[0m\u001b[0;34m\u001b[0m\u001b[0;34m\u001b[0m\u001b[0m\n\u001b[0;32m--> 895\u001b[0;31m                 \u001b[0;32mraise\u001b[0m \u001b[0mKeyboardInterrupt\u001b[0m\u001b[0;34m(\u001b[0m\u001b[0;34m\"Interrupted by user\"\u001b[0m\u001b[0;34m)\u001b[0m \u001b[0;32mfrom\u001b[0m \u001b[0;32mNone\u001b[0m\u001b[0;34m\u001b[0m\u001b[0;34m\u001b[0m\u001b[0m\n\u001b[0m\u001b[1;32m    896\u001b[0m             \u001b[0;32mexcept\u001b[0m \u001b[0mException\u001b[0m \u001b[0;32mas\u001b[0m \u001b[0me\u001b[0m\u001b[0;34m:\u001b[0m\u001b[0;34m\u001b[0m\u001b[0;34m\u001b[0m\u001b[0m\n\u001b[1;32m    897\u001b[0m                 \u001b[0mself\u001b[0m\u001b[0;34m.\u001b[0m\u001b[0mlog\u001b[0m\u001b[0;34m.\u001b[0m\u001b[0mwarning\u001b[0m\u001b[0;34m(\u001b[0m\u001b[0;34m\"Invalid Message:\"\u001b[0m\u001b[0;34m,\u001b[0m \u001b[0mexc_info\u001b[0m\u001b[0;34m=\u001b[0m\u001b[0;32mTrue\u001b[0m\u001b[0;34m)\u001b[0m\u001b[0;34m\u001b[0m\u001b[0;34m\u001b[0m\u001b[0m\n",
            "\u001b[0;31mKeyboardInterrupt\u001b[0m: Interrupted by user"
          ]
        }
      ],
      "source": [
        "################    MENU   ################\n",
        "\n",
        "sair_loop=0                                                   # permanecer ou sair do while / looping\n",
        "finalizar='sim'\n",
        "while sair_loop==0:\n",
        "  x2=int(input(' \\n\\nMENU PRINCIPAL\\n\\n 1 > adicionar\\n 2 > alterar\\n 3 > mostrar os cpf cadastrados \\n 4 > excluir\\n 5 > pesquisar\\n 0 > sair\\n>> '))\n",
        "  if x2==1:                                                     # ADICIONAR\n",
        "    print('opção escolhida: 1 - Adicionar')\n",
        "    cpf3,finalizar2=validar_cpf()\n",
        "    print('1')\n",
        "    if finalizar2 == 'nao':\n",
        "      #print('2')\n",
        "      adicionar(cpf3)\n",
        "  elif x2==2:                                                    # ALTERAR\n",
        "    print('opção escolhida: 2 - Alterar')\n",
        "    alterar()\n",
        "  elif x2==3:                                                    # MOSTRAR\n",
        "    print('opção escolhida: 3')\n",
        "    mostrar()\n",
        "  elif x2==4:                                                    # EXCLUIR\n",
        "    print('opção escolhida: 4')\n",
        "    excluir()\n",
        "  elif x2==5:                                                    # PESQUISAR\n",
        "    print('opção escolhida: 5')\n",
        "    #validar_cpf()\n",
        "    pesquisar()\n",
        "  elif x2==0:\n",
        "    print('saindo do sistema')\n",
        "    sair_loop=1\n",
        "  else:\n",
        "    print('opção inexistente, saindo do sistema ')\n",
        "    sair_loop=1"
      ]
    },
    {
      "cell_type": "code",
      "source": [
        "x=1\n",
        "tabela[111]"
      ],
      "metadata": {
        "id": "7v-HnLar0LQa"
      },
      "execution_count": null,
      "outputs": []
    },
    {
      "cell_type": "code",
      "source": [
        "tabela.get(111)"
      ],
      "metadata": {
        "id": "Ww1qNbrn0LTM"
      },
      "execution_count": null,
      "outputs": []
    }
  ],
  "metadata": {
    "colab": {
      "provenance": [],
      "authorship_tag": "ABX9TyOAncsAdXkB1XJUoxaC+7Ek",
      "include_colab_link": true
    },
    "kernelspec": {
      "display_name": "Python 3",
      "name": "python3"
    },
    "language_info": {
      "name": "python"
    }
  },
  "nbformat": 4,
  "nbformat_minor": 0
}