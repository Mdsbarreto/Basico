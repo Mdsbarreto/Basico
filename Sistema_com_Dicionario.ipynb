{
  "cells": [
    {
      "cell_type": "markdown",
      "metadata": {
        "id": "view-in-github",
        "colab_type": "text"
      },
      "source": [
        "<a href=\"https://colab.research.google.com/github/Mdsbarreto/Basico/blob/main/Sistema_com_Dicionario.ipynb\" target=\"_parent\"><img src=\"https://colab.research.google.com/assets/colab-badge.svg\" alt=\"Open In Colab\"/></a>"
      ]
    },
    {
      "cell_type": "code",
      "execution_count": 10,
      "metadata": {
        "id": "255dqqNG7NtK"
      },
      "outputs": [],
      "source": [
        "tabela= {1:'mar', 2:'dua', 3:'sil',4:'bar',5:'mei',6:'dil',11:'mar2', 12:'dua2', 13:'sil2'}"
      ]
    },
    {
      "cell_type": "code",
      "execution_count": 11,
      "metadata": {
        "id": "uAZvcfyu7Nk-"
      },
      "outputs": [],
      "source": [
        "def mostrar():\n",
        "  for i in tabela.keys():\n",
        "    print(i)\n",
        "#mostrar()"
      ]
    },
    {
      "cell_type": "code",
      "execution_count": 12,
      "metadata": {
        "id": "UrT7stCa7NoD"
      },
      "outputs": [],
      "source": [
        "def pesquisar():\n",
        "  x=int(input('digite o cpf a ser pesquisado: '))\n",
        "  if x in tabela.keys():\n",
        "    print(x)\n",
        "    print(tabela[x])\n",
        "  else:\n",
        "    print('cpf não encontrado')\n",
        "#pesquisar()"
      ]
    },
    {
      "cell_type": "code",
      "source": [
        "def excluir():\n",
        "  x=int(input('digite o cpf a ser excluido: '))\n",
        "  try:\n",
        "    tabela.pop(x)\n",
        "    print('valor excluido')\n",
        "  except:\n",
        "    print('valor não encontrado')\n",
        "#excluir()"
      ],
      "metadata": {
        "id": "wTVIXJvubwbI"
      },
      "execution_count": 13,
      "outputs": []
    },
    {
      "cell_type": "code",
      "source": [
        "def alterar():\n",
        "    x = int(input('Digite o CPF que deseja alterar o valor: '))\n",
        "    busca = tabela.get(x)\n",
        "\n",
        "    if busca is None:\n",
        "        print('Valor não encontrado')\n",
        "        return\n",
        "\n",
        "    print(f'O valor atual para {x} é: {busca}')\n",
        "    validacao = int(input('Deseja alterar? Digite 1 para sim ou 2 para não: '))\n",
        "    if validacao == 1:\n",
        "        novo = input('Digite o novo valor: ')\n",
        "        tabela[x] = novo\n",
        "        print('Valor alterado')\n",
        "    else:\n",
        "      print('valor nao alterado')\n",
        "    print(tabela)\n",
        "# alterar()"
      ],
      "metadata": {
        "id": "6afso7qjrzTa"
      },
      "execution_count": 15,
      "outputs": []
    },
    {
      "cell_type": "code",
      "execution_count": 16,
      "metadata": {
        "id": "eEmumxdlHq6u"
      },
      "outputs": [],
      "source": [
        "def adicionar(x):\n",
        "  y=input(f'digite o nome para o cpf: {x}\\n')\n",
        "  if x in tabela.keys():\n",
        "    x2=input(f'\\njá existe esse cpf, deseja alterar de > {tabela.get(x)} < para > {y} < ?? \\ndigite 1 para sim e ou 2 para não:  \\n')\n",
        "    if x2=='1':\n",
        "      tabela[x]=y\n",
        "      print(f'adicionado cpf > {x} no nome de > {y}')\n",
        "    elif x2=='2':\n",
        "      print('escolhido opção 2, saindo do sistema, nome não foi atualizado')\n",
        "    else:\n",
        "      print('informação incorreta, saindo do sistema')\n",
        "  else:\n",
        "    tabela[x]=y\n",
        "    print(f'adicionado cpf > {x} no nome de > {y}')\n",
        "#x=322...\n",
        "#adicionar(x)"
      ]
    },
    {
      "cell_type": "code",
      "execution_count": 17,
      "metadata": {
        "id": "9-IS3P01VmVg"
      },
      "outputs": [],
      "source": [
        "def validar_cpf2(cpf):\n",
        "    cpf = ''.join(filter(str.isdigit, cpf))                                 # Remove caracteres não numéricos\n",
        "    print(cpf)\n",
        "    if len(cpf) != 11:\n",
        "        valido='nao'\n",
        "        #print(valido)\n",
        "        return cpf, valido\n",
        "    soma = 0                                                               # Calcula o primeiro dígito verificador\n",
        "    for i in range(9):\n",
        "        soma += int(cpf[i]) * (10 - i)\n",
        "    resto = soma % 11\n",
        "    if resto < 2:\n",
        "        digito1 = 0\n",
        "    else:\n",
        "        digito1 = 11 - resto\n",
        "    soma = 0                                                               # Calcula o segundo dígito verificador\n",
        "    for i in range(10):\n",
        "        soma += int(cpf[i]) * (11 - i)\n",
        "    resto = soma % 11\n",
        "    if resto < 2:\n",
        "        digito2 = 0\n",
        "    else:\n",
        "        digito2 = 11 - resto\n",
        "    if int(cpf[9]) == digito1 and int(cpf[10]) == digito2:               # Verifica se os dígitos verificadores calculados coincidem com os reais\n",
        "        valido='sim'\n",
        "    else:\n",
        "        valido='nao'\n",
        "    return cpf, valido\n",
        "\n",
        "def validar_cpf():\n",
        "  valido = 'sim'\n",
        "  cpf = input('Digite o CPF: ')\n",
        "  cpf_final,validacao_status = validar_cpf2(cpf)\n",
        "  if validacao_status == 'nao':\n",
        "    print('CPF inválido.\\n')\n",
        "    finalizar='sim'\n",
        "  else:\n",
        "    print('CPF válido, seguindo com o sistema\\n ')\n",
        "    finalizar='nao'\n",
        "    #print (finalizar)\n",
        "  return cpf_final, finalizar\n",
        "\n",
        "  #print(cpf_final)\n",
        "  #print(validacao_status)\n",
        "#validar_cpf()"
      ]
    },
    {
      "cell_type": "code",
      "execution_count": null,
      "metadata": {
        "id": "Qc19xY2XVmar"
      },
      "outputs": [],
      "source": [
        "################    MENU   ################\n",
        "\n",
        "sair_loop=0                                                   # permanecer ou sair do while / looping\n",
        "finalizar='sim'\n",
        "while sair_loop==0:\n",
        "  x2=int(input(' \\n\\nMENU PRINCIPAL\\n\\n 1 > adicionar\\n 2 > alterar\\n 3 > mostrar os cpf cadastrados \\n 4 > excluir\\n 5 > pesquisar\\n 0 > sair\\n>> '))\n",
        "  if x2==1:                                                     # ADICIONAR\n",
        "    print('opção escolhida: 1 - Adicionar')\n",
        "    cpf3,finalizar2=validar_cpf()\n",
        "    print('1')\n",
        "    if finalizar2 == 'nao':\n",
        "      #print('2')\n",
        "      adicionar(cpf3)\n",
        "  elif x2==2:                                                    # ALTERAR\n",
        "    print('opção escolhida: 2 - Alterar')\n",
        "    alterar()\n",
        "  elif x2==3:                                                    # MOSTRAR\n",
        "    print('opção escolhida: 3')\n",
        "    mostrar()\n",
        "  elif x2==4:                                                    # EXCLUIR\n",
        "    print('opção escolhida: 4')\n",
        "    excluir()\n",
        "  elif x2==5:                                                    # PESQUISAR\n",
        "    print('opção escolhida: 5')\n",
        "    #validar_cpf()\n",
        "    pesquisar()\n",
        "  elif x2==0:\n",
        "    print('saindo do sistema')\n",
        "    sair_loop=1\n",
        "  else:\n",
        "    print('opção inexistente, saindo do sistema ')\n",
        "    sair_loop=1"
      ]
    },
    {
      "cell_type": "code",
      "source": [],
      "metadata": {
        "id": "7v-HnLar0LQa"
      },
      "execution_count": null,
      "outputs": []
    },
    {
      "cell_type": "code",
      "source": [],
      "metadata": {
        "id": "Ww1qNbrn0LTM"
      },
      "execution_count": null,
      "outputs": []
    }
  ],
  "metadata": {
    "colab": {
      "provenance": [],
      "authorship_tag": "ABX9TyN2NgEZgFSxBX8Pz0xbFcyk",
      "include_colab_link": true
    },
    "kernelspec": {
      "display_name": "Python 3",
      "name": "python3"
    },
    "language_info": {
      "name": "python"
    }
  },
  "nbformat": 4,
  "nbformat_minor": 0
}